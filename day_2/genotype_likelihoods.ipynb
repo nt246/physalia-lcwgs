{
 "cells": [
  {
   "cell_type": "code",
   "execution_count": 4,
   "metadata": {},
   "outputs": [],
   "source": [
    "# https://github.com/mfumagalli/ngsJulia\n",
    "include(\"/home/mfumagal/Software/ngsJulia/templates.jl\");\n",
    "include(\"/home/mfumagal/Software/ngsJulia/functions.jl\");"
   ]
  },
  {
   "cell_type": "code",
   "execution_count": 6,
   "metadata": {},
   "outputs": [
    {
     "data": {
      "text/plain": [
       "Reads(\"AAAG\", \"5555\")"
      ]
     },
     "execution_count": 6,
     "metadata": {},
     "output_type": "execute_result"
    }
   ],
   "source": [
    "# create some data\n",
    "site = Site(\"chrom4\", 34516, 'A'); # chrom, pos, reference allele\n",
    "reads = Reads(\"AAAG\", \"5555\");"
   ]
  },
  {
   "cell_type": "code",
   "execution_count": 7,
   "metadata": {},
   "outputs": [
    {
     "data": {
      "text/plain": [
       "4-element Vector{Float64}:\n",
       "  -5.733933482216705\n",
       " -22.815129898624804\n",
       " -17.121397759822106\n",
       " -22.815129898624804"
      ]
     },
     "execution_count": 7,
     "metadata": {},
     "output_type": "execute_result"
    }
   ],
   "source": [
    "# We can visualise the nucleotide likelihoods\n",
    "nucleo_likes = calcGenoLogLike1(reads, site)"
   ]
  },
  {
   "cell_type": "code",
   "execution_count": 8,
   "metadata": {},
   "outputs": [
    {
     "name": "stdout",
     "output_type": "stream",
     "text": [
      "Major allele is A and minor allele is G\n"
     ]
    }
   ],
   "source": [
    "# which in turn can be used to estimate major and minor alleles:\n",
    "(major, minor, minor2, minor3) = sortperm(nucleo_likes, rev=true);\n",
    "println(\"Major allele is \", alleles[major], \" and minor allele is \", alleles[minor])"
   ]
  },
  {
   "cell_type": "code",
   "execution_count": 10,
   "metadata": {},
   "outputs": [
    {
     "data": {
      "text/plain": [
       "3-element Vector{Float64}:\n",
       "  -5.733933482216705\n",
       "  -2.799344674842968\n",
       " -17.121397759822106"
      ]
     },
     "execution_count": 10,
     "metadata": {},
     "output_type": "execute_result"
    }
   ],
   "source": [
    "# From these variables, it's easy to visualise the genotype likelihoods of a diploid for said alleles\n",
    "geno_likes = calcGenoLogLike2_MajorMinor(reads, site, major, minor)"
   ]
  },
  {
   "cell_type": "markdown",
   "metadata": {},
   "source": [
    "where the genotypes in output are ordered as \"(major,major), (major, minor), (minor, minor)\", as that the most likely genotype is"
   ]
  },
  {
   "cell_type": "code",
   "execution_count": 11,
   "metadata": {},
   "outputs": [
    {
     "data": {
      "text/plain": [
       "2"
      ]
     },
     "execution_count": 11,
     "metadata": {},
     "output_type": "execute_result"
    }
   ],
   "source": [
    "findmax(geno_likes)[2] # (major, minor), AG"
   ]
  },
  {
   "cell_type": "markdown",
   "metadata": {},
   "source": [
    "If we wish to set up a custom algorithm for genotype calling, then we can for instance calculate the difference in log likelihoods between the most likely and second most likely genotype as a weight of evidence"
   ]
  },
  {
   "cell_type": "code",
   "execution_count": 12,
   "metadata": {},
   "outputs": [
    {
     "data": {
      "text/plain": [
       "1-element Vector{Float64}:\n",
       " 2.9345888073737374"
      ]
     },
     "execution_count": 12,
     "metadata": {},
     "output_type": "execute_result"
    }
   ],
   "source": [
    "diff(geno_likes[sortperm(geno_likes, rev=true)[[2,1]]])"
   ]
  },
  {
   "cell_type": "markdown",
   "metadata": {},
   "source": [
    "Let's play with different values!"
   ]
  },
  {
   "cell_type": "code",
   "execution_count": 25,
   "metadata": {},
   "outputs": [
    {
     "name": "stdout",
     "output_type": "stream",
     "text": [
      "geno likes:[-5.733933482216705, -2.799344674842968, -17.121397759822106]\n",
      "confidence:[2.9345888073737374]"
     ]
    }
   ],
   "source": [
    "reads = Reads(\"AAAG\", \"5555\")\n",
    "nucleo_likes = calcGenoLogLike1(reads, site)\n",
    "(major, minor, minor2, minor3) = sortperm(nucleo_likes, rev=true)\n",
    "geno_likes = calcGenoLogLike2_MajorMinor(reads, site, major, minor)\n",
    "print(\"geno likes:\", geno_likes, \"\\nconfidence:\", diff(geno_likes[sortperm(geno_likes, rev=true)[[2,1]]]))"
   ]
  },
  {
   "cell_type": "code",
   "execution_count": null,
   "metadata": {},
   "outputs": [],
   "source": [
    "# what if data is 555K or 5550 in quality scores? what if we have more reads?"
   ]
  }
 ],
 "metadata": {
  "kernelspec": {
   "display_name": "Julia 1.6.1",
   "language": "julia",
   "name": "julia-1.6"
  },
  "language_info": {
   "file_extension": ".jl",
   "mimetype": "application/julia",
   "name": "julia",
   "version": "1.6.1"
  }
 },
 "nbformat": 4,
 "nbformat_minor": 2
}
